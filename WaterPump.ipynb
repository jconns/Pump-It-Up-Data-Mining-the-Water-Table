{
 "cells": [
  {
   "cell_type": "code",
   "execution_count": 1,
   "id": "a6b3052a",
   "metadata": {},
   "outputs": [],
   "source": [
    "import pandas as pd\n",
    "import numpy as np\n",
    "import matplotlib as plt"
   ]
  },
  {
   "cell_type": "code",
   "execution_count": 80,
   "id": "ee38408c",
   "metadata": {},
   "outputs": [],
   "source": [
    "train_ind = pd.read_csv('/Users/jackconnors/Downloads/ind_train.csv')\n",
    "train_dep = pd.read_csv('/Users/jackconnors/Downloads/dep_train.csv')\n",
    "test_ind = pd.read_csv('/Users/jackconnors/Downloads/test_set_ind.csv')"
   ]
  },
  {
   "cell_type": "code",
   "execution_count": 6,
   "id": "8470c6c5",
   "metadata": {},
   "outputs": [
    {
     "data": {
      "text/html": [
       "<div>\n",
       "<style scoped>\n",
       "    .dataframe tbody tr th:only-of-type {\n",
       "        vertical-align: middle;\n",
       "    }\n",
       "\n",
       "    .dataframe tbody tr th {\n",
       "        vertical-align: top;\n",
       "    }\n",
       "\n",
       "    .dataframe thead th {\n",
       "        text-align: right;\n",
       "    }\n",
       "</style>\n",
       "<table border=\"1\" class=\"dataframe\">\n",
       "  <thead>\n",
       "    <tr style=\"text-align: right;\">\n",
       "      <th></th>\n",
       "      <th>id</th>\n",
       "      <th>status_group</th>\n",
       "    </tr>\n",
       "  </thead>\n",
       "  <tbody>\n",
       "    <tr>\n",
       "      <th>0</th>\n",
       "      <td>69572</td>\n",
       "      <td>functional</td>\n",
       "    </tr>\n",
       "    <tr>\n",
       "      <th>1</th>\n",
       "      <td>8776</td>\n",
       "      <td>functional</td>\n",
       "    </tr>\n",
       "    <tr>\n",
       "      <th>2</th>\n",
       "      <td>34310</td>\n",
       "      <td>functional</td>\n",
       "    </tr>\n",
       "    <tr>\n",
       "      <th>3</th>\n",
       "      <td>67743</td>\n",
       "      <td>non functional</td>\n",
       "    </tr>\n",
       "    <tr>\n",
       "      <th>4</th>\n",
       "      <td>19728</td>\n",
       "      <td>functional</td>\n",
       "    </tr>\n",
       "  </tbody>\n",
       "</table>\n",
       "</div>"
      ],
      "text/plain": [
       "      id    status_group\n",
       "0  69572      functional\n",
       "1   8776      functional\n",
       "2  34310      functional\n",
       "3  67743  non functional\n",
       "4  19728      functional"
      ]
     },
     "execution_count": 6,
     "metadata": {},
     "output_type": "execute_result"
    }
   ],
   "source": [
    "train_dep.head()"
   ]
  },
  {
   "cell_type": "code",
   "execution_count": 11,
   "id": "3bee0a23",
   "metadata": {},
   "outputs": [],
   "source": [
    "merge_train = pd.merge(train_ind, train_dep, on=\"id\")"
   ]
  },
  {
   "cell_type": "markdown",
   "id": "694c7111",
   "metadata": {},
   "source": [
    "# Clean Data"
   ]
  },
  {
   "cell_type": "code",
   "execution_count": 16,
   "id": "b5e49b47",
   "metadata": {},
   "outputs": [
    {
     "data": {
      "text/plain": [
       "id                           0\n",
       "amount_tsh                   0\n",
       "date_recorded                0\n",
       "funder                    3635\n",
       "gps_height                   0\n",
       "installer                 3655\n",
       "longitude                    0\n",
       "latitude                     0\n",
       "wpt_name                     0\n",
       "num_private                  0\n",
       "basin                        0\n",
       "subvillage                 371\n",
       "region                       0\n",
       "region_code                  0\n",
       "district_code                0\n",
       "lga                          0\n",
       "ward                         0\n",
       "population                   0\n",
       "public_meeting            3334\n",
       "recorded_by                  0\n",
       "scheme_management         3877\n",
       "scheme_name              28166\n",
       "permit                    3056\n",
       "construction_year            0\n",
       "extraction_type              0\n",
       "extraction_type_group        0\n",
       "extraction_type_class        0\n",
       "management                   0\n",
       "management_group             0\n",
       "payment                      0\n",
       "payment_type                 0\n",
       "water_quality                0\n",
       "quality_group                0\n",
       "quantity                     0\n",
       "quantity_group               0\n",
       "source                       0\n",
       "source_type                  0\n",
       "source_class                 0\n",
       "waterpoint_type              0\n",
       "waterpoint_type_group        0\n",
       "status_group                 0\n",
       "dtype: int64"
      ]
     },
     "execution_count": 16,
     "metadata": {},
     "output_type": "execute_result"
    }
   ],
   "source": [
    "merge_train.isnull().sum()"
   ]
  },
  {
   "cell_type": "markdown",
   "id": "c0f2f0f0",
   "metadata": {},
   "source": [
    "# Convert Date to Date Type and Create Duration Variable"
   ]
  },
  {
   "cell_type": "code",
   "execution_count": 17,
   "id": "390703c6",
   "metadata": {},
   "outputs": [],
   "source": [
    "merge_train['date_recorded'] = pd.to_datetime(merge_train['date_recorded'])\n",
    "merge_train['construction_year'] = pd.to_datetime(merge_train['construction_year'])"
   ]
  },
  {
   "cell_type": "code",
   "execution_count": 18,
   "id": "c354e407",
   "metadata": {},
   "outputs": [],
   "source": [
    "merge_train['duration'] = merge_train['date_recorded'] - merge_train['construction_year']"
   ]
  },
  {
   "cell_type": "code",
   "execution_count": 26,
   "id": "e73a7268",
   "metadata": {},
   "outputs": [],
   "source": [
    "resp_vars = merge_train[['duration', 'water_quality', 'management', 'id', 'status_group']]"
   ]
  },
  {
   "cell_type": "code",
   "execution_count": 27,
   "id": "2d4f36a2",
   "metadata": {},
   "outputs": [
    {
     "data": {
      "text/html": [
       "<div>\n",
       "<style scoped>\n",
       "    .dataframe tbody tr th:only-of-type {\n",
       "        vertical-align: middle;\n",
       "    }\n",
       "\n",
       "    .dataframe tbody tr th {\n",
       "        vertical-align: top;\n",
       "    }\n",
       "\n",
       "    .dataframe thead th {\n",
       "        text-align: right;\n",
       "    }\n",
       "</style>\n",
       "<table border=\"1\" class=\"dataframe\">\n",
       "  <thead>\n",
       "    <tr style=\"text-align: right;\">\n",
       "      <th></th>\n",
       "      <th>duration</th>\n",
       "      <th>water_quality</th>\n",
       "      <th>management</th>\n",
       "      <th>id</th>\n",
       "      <th>status_group</th>\n",
       "    </tr>\n",
       "  </thead>\n",
       "  <tbody>\n",
       "    <tr>\n",
       "      <th>0</th>\n",
       "      <td>15046 days 23:59:59.999998001</td>\n",
       "      <td>soft</td>\n",
       "      <td>vwc</td>\n",
       "      <td>69572</td>\n",
       "      <td>functional</td>\n",
       "    </tr>\n",
       "    <tr>\n",
       "      <th>1</th>\n",
       "      <td>15769 days 23:59:59.999997990</td>\n",
       "      <td>soft</td>\n",
       "      <td>wug</td>\n",
       "      <td>8776</td>\n",
       "      <td>functional</td>\n",
       "    </tr>\n",
       "    <tr>\n",
       "      <th>2</th>\n",
       "      <td>15760 days 23:59:59.999997991</td>\n",
       "      <td>soft</td>\n",
       "      <td>vwc</td>\n",
       "      <td>34310</td>\n",
       "      <td>functional</td>\n",
       "    </tr>\n",
       "    <tr>\n",
       "      <th>3</th>\n",
       "      <td>15732 days 23:59:59.999998014</td>\n",
       "      <td>soft</td>\n",
       "      <td>vwc</td>\n",
       "      <td>67743</td>\n",
       "      <td>non functional</td>\n",
       "    </tr>\n",
       "    <tr>\n",
       "      <th>4</th>\n",
       "      <td>15168 days 00:00:00</td>\n",
       "      <td>soft</td>\n",
       "      <td>other</td>\n",
       "      <td>19728</td>\n",
       "      <td>functional</td>\n",
       "    </tr>\n",
       "  </tbody>\n",
       "</table>\n",
       "</div>"
      ],
      "text/plain": [
       "                       duration water_quality management     id  \\\n",
       "0 15046 days 23:59:59.999998001          soft        vwc  69572   \n",
       "1 15769 days 23:59:59.999997990          soft        wug   8776   \n",
       "2 15760 days 23:59:59.999997991          soft        vwc  34310   \n",
       "3 15732 days 23:59:59.999998014          soft        vwc  67743   \n",
       "4           15168 days 00:00:00          soft      other  19728   \n",
       "\n",
       "     status_group  \n",
       "0      functional  \n",
       "1      functional  \n",
       "2      functional  \n",
       "3  non functional  \n",
       "4      functional  "
      ]
     },
     "execution_count": 27,
     "metadata": {},
     "output_type": "execute_result"
    }
   ],
   "source": [
    "resp_vars.head()"
   ]
  },
  {
   "cell_type": "markdown",
   "id": "2dbcb486",
   "metadata": {},
   "source": [
    "# Classification Model"
   ]
  },
  {
   "cell_type": "code",
   "execution_count": 28,
   "id": "50f861dc",
   "metadata": {},
   "outputs": [
    {
     "data": {
      "text/plain": [
       "duration         0\n",
       "water_quality    0\n",
       "management       0\n",
       "id               0\n",
       "status_group     0\n",
       "dtype: int64"
      ]
     },
     "execution_count": 28,
     "metadata": {},
     "output_type": "execute_result"
    }
   ],
   "source": [
    "resp_vars.isna().sum()"
   ]
  },
  {
   "cell_type": "markdown",
   "id": "d9c3a527",
   "metadata": {},
   "source": [
    "# Classification Model"
   ]
  },
  {
   "cell_type": "code",
   "execution_count": 69,
   "id": "0adeea6e",
   "metadata": {},
   "outputs": [],
   "source": [
    "from sklearn.model_selection import train_test_split\n",
    "from sklearn.ensemble import RandomForestClassifier\n",
    "from sklearn.datasets import make_classification\n",
    "from sklearn.preprocessing import LabelEncoder\n",
    "from sklearn.preprocessing import OneHotEncoder"
   ]
  },
  {
   "cell_type": "code",
   "execution_count": 60,
   "id": "6d4b4f08",
   "metadata": {},
   "outputs": [],
   "source": [
    "x = resp_vars[['duration', 'water_quality', 'management']]\n",
    "y= resp_vars[['status_group']]"
   ]
  },
  {
   "cell_type": "code",
   "execution_count": 62,
   "id": "a4aaab2d",
   "metadata": {},
   "outputs": [],
   "source": [
    "label_encoder = LabelEncoder()\n",
    "y_encoded = label_encoder.fit_transform(y.values.ravel())"
   ]
  },
  {
   "cell_type": "code",
   "execution_count": 71,
   "id": "9d10faa4",
   "metadata": {},
   "outputs": [],
   "source": [
    "encoder = OneHotEncoder()\n",
    "\n",
    "categorical_columns = ['water_quality', 'management']\n",
    "encoded_features = encoder.fit_transform(x[categorical_columns])\n",
    "\n",
    "encoded_df = pd.DataFrame(encoded_features.toarray(), columns=encoder.categories_[0].tolist() + encoder.categories_[1].tolist())\n",
    "\n",
    "x_encoded = pd.concat([x.drop(categorical_columns, axis=1), encoded_df], axis=1)\n",
    "\n"
   ]
  },
  {
   "cell_type": "code",
   "execution_count": 63,
   "id": "33a3cb5d",
   "metadata": {},
   "outputs": [
    {
     "name": "stderr",
     "output_type": "stream",
     "text": [
      "/var/folders/78/lyg5vs3x05n9nf7j9ttzb0yc0000gn/T/ipykernel_73236/2873239153.py:1: SettingWithCopyWarning: \n",
      "A value is trying to be set on a copy of a slice from a DataFrame.\n",
      "Try using .loc[row_indexer,col_indexer] = value instead\n",
      "\n",
      "See the caveats in the documentation: https://pandas.pydata.org/pandas-docs/stable/user_guide/indexing.html#returning-a-view-versus-a-copy\n",
      "  x['duration_seconds'] = x['duration'].dt.total_seconds()\n"
     ]
    }
   ],
   "source": [
    "x['duration_seconds'] = x['duration'].dt.total_seconds()"
   ]
  },
  {
   "cell_type": "code",
   "execution_count": 65,
   "id": "9ff15180",
   "metadata": {},
   "outputs": [],
   "source": [
    "x = x.drop('duration', axis=1)"
   ]
  },
  {
   "cell_type": "code",
   "execution_count": 135,
   "id": "5215c9e1",
   "metadata": {},
   "outputs": [
    {
     "data": {
      "text/plain": [
       "array([0, 0, 0, ..., 0, 0, 0])"
      ]
     },
     "execution_count": 135,
     "metadata": {},
     "output_type": "execute_result"
    }
   ],
   "source": []
  },
  {
   "cell_type": "code",
   "execution_count": 74,
   "id": "7fbaa46a",
   "metadata": {},
   "outputs": [],
   "source": [
    "clf = RandomForestClassifier()"
   ]
  },
  {
   "cell_type": "code",
   "execution_count": 76,
   "id": "fa975442",
   "metadata": {},
   "outputs": [
    {
     "data": {
      "text/html": [
       "<style>#sk-container-id-3 {color: black;background-color: white;}#sk-container-id-3 pre{padding: 0;}#sk-container-id-3 div.sk-toggleable {background-color: white;}#sk-container-id-3 label.sk-toggleable__label {cursor: pointer;display: block;width: 100%;margin-bottom: 0;padding: 0.3em;box-sizing: border-box;text-align: center;}#sk-container-id-3 label.sk-toggleable__label-arrow:before {content: \"▸\";float: left;margin-right: 0.25em;color: #696969;}#sk-container-id-3 label.sk-toggleable__label-arrow:hover:before {color: black;}#sk-container-id-3 div.sk-estimator:hover label.sk-toggleable__label-arrow:before {color: black;}#sk-container-id-3 div.sk-toggleable__content {max-height: 0;max-width: 0;overflow: hidden;text-align: left;background-color: #f0f8ff;}#sk-container-id-3 div.sk-toggleable__content pre {margin: 0.2em;color: black;border-radius: 0.25em;background-color: #f0f8ff;}#sk-container-id-3 input.sk-toggleable__control:checked~div.sk-toggleable__content {max-height: 200px;max-width: 100%;overflow: auto;}#sk-container-id-3 input.sk-toggleable__control:checked~label.sk-toggleable__label-arrow:before {content: \"▾\";}#sk-container-id-3 div.sk-estimator input.sk-toggleable__control:checked~label.sk-toggleable__label {background-color: #d4ebff;}#sk-container-id-3 div.sk-label input.sk-toggleable__control:checked~label.sk-toggleable__label {background-color: #d4ebff;}#sk-container-id-3 input.sk-hidden--visually {border: 0;clip: rect(1px 1px 1px 1px);clip: rect(1px, 1px, 1px, 1px);height: 1px;margin: -1px;overflow: hidden;padding: 0;position: absolute;width: 1px;}#sk-container-id-3 div.sk-estimator {font-family: monospace;background-color: #f0f8ff;border: 1px dotted black;border-radius: 0.25em;box-sizing: border-box;margin-bottom: 0.5em;}#sk-container-id-3 div.sk-estimator:hover {background-color: #d4ebff;}#sk-container-id-3 div.sk-parallel-item::after {content: \"\";width: 100%;border-bottom: 1px solid gray;flex-grow: 1;}#sk-container-id-3 div.sk-label:hover label.sk-toggleable__label {background-color: #d4ebff;}#sk-container-id-3 div.sk-serial::before {content: \"\";position: absolute;border-left: 1px solid gray;box-sizing: border-box;top: 0;bottom: 0;left: 50%;z-index: 0;}#sk-container-id-3 div.sk-serial {display: flex;flex-direction: column;align-items: center;background-color: white;padding-right: 0.2em;padding-left: 0.2em;position: relative;}#sk-container-id-3 div.sk-item {position: relative;z-index: 1;}#sk-container-id-3 div.sk-parallel {display: flex;align-items: stretch;justify-content: center;background-color: white;position: relative;}#sk-container-id-3 div.sk-item::before, #sk-container-id-3 div.sk-parallel-item::before {content: \"\";position: absolute;border-left: 1px solid gray;box-sizing: border-box;top: 0;bottom: 0;left: 50%;z-index: -1;}#sk-container-id-3 div.sk-parallel-item {display: flex;flex-direction: column;z-index: 1;position: relative;background-color: white;}#sk-container-id-3 div.sk-parallel-item:first-child::after {align-self: flex-end;width: 50%;}#sk-container-id-3 div.sk-parallel-item:last-child::after {align-self: flex-start;width: 50%;}#sk-container-id-3 div.sk-parallel-item:only-child::after {width: 0;}#sk-container-id-3 div.sk-dashed-wrapped {border: 1px dashed gray;margin: 0 0.4em 0.5em 0.4em;box-sizing: border-box;padding-bottom: 0.4em;background-color: white;}#sk-container-id-3 div.sk-label label {font-family: monospace;font-weight: bold;display: inline-block;line-height: 1.2em;}#sk-container-id-3 div.sk-label-container {text-align: center;}#sk-container-id-3 div.sk-container {/* jupyter's `normalize.less` sets `[hidden] { display: none; }` but bootstrap.min.css set `[hidden] { display: none !important; }` so we also need the `!important` here to be able to override the default hidden behavior on the sphinx rendered scikit-learn.org. See: https://github.com/scikit-learn/scikit-learn/issues/21755 */display: inline-block !important;position: relative;}#sk-container-id-3 div.sk-text-repr-fallback {display: none;}</style><div id=\"sk-container-id-3\" class=\"sk-top-container\"><div class=\"sk-text-repr-fallback\"><pre>RandomForestClassifier()</pre><b>In a Jupyter environment, please rerun this cell to show the HTML representation or trust the notebook. <br />On GitHub, the HTML representation is unable to render, please try loading this page with nbviewer.org.</b></div><div class=\"sk-container\" hidden><div class=\"sk-item\"><div class=\"sk-estimator sk-toggleable\"><input class=\"sk-toggleable__control sk-hidden--visually\" id=\"sk-estimator-id-3\" type=\"checkbox\" checked><label for=\"sk-estimator-id-3\" class=\"sk-toggleable__label sk-toggleable__label-arrow\">RandomForestClassifier</label><div class=\"sk-toggleable__content\"><pre>RandomForestClassifier()</pre></div></div></div></div></div>"
      ],
      "text/plain": [
       "RandomForestClassifier()"
      ]
     },
     "execution_count": 76,
     "metadata": {},
     "output_type": "execute_result"
    }
   ],
   "source": [
    "clf.fit(x_encoded, y_encoded)"
   ]
  },
  {
   "cell_type": "code",
   "execution_count": 77,
   "id": "2d721348",
   "metadata": {},
   "outputs": [
    {
     "name": "stdout",
     "output_type": "stream",
     "text": [
      "[7.19082978e-01 3.90364583e-03 4.49150188e-03 5.50108890e-04\n",
      " 3.97361791e-03 1.36060755e-02 5.24476550e-03 4.04518039e-02\n",
      " 7.00384118e-02 1.24231896e-02 3.25936659e-03 3.42635823e-03\n",
      " 4.57339658e-03 1.36374299e-02 8.79927375e-04 5.77087203e-03\n",
      " 4.29723006e-02 6.70847030e-03 2.24968527e-02 1.01167445e-02\n",
      " 1.23921826e-02]\n"
     ]
    }
   ],
   "source": [
    "print(clf.feature_importances_)"
   ]
  },
  {
   "cell_type": "markdown",
   "id": "a2fbb406",
   "metadata": {},
   "source": [
    "# Make Prediction"
   ]
  },
  {
   "cell_type": "code",
   "execution_count": 86,
   "id": "4ae7357c",
   "metadata": {},
   "outputs": [],
   "source": [
    "test_ind['date_recorded'] = pd.to_datetime(test_ind['date_recorded'])\n",
    "test_ind['construction_year'] = pd.to_datetime(test_ind['construction_year'])"
   ]
  },
  {
   "cell_type": "code",
   "execution_count": 96,
   "id": "0d009c8e",
   "metadata": {},
   "outputs": [],
   "source": [
    "test_ind['duration'] = test_ind['date_recorded'] - test_ind['construction_year']"
   ]
  },
  {
   "cell_type": "code",
   "execution_count": 97,
   "id": "b5b39223",
   "metadata": {},
   "outputs": [],
   "source": [
    "test_vars = test_ind[['duration', 'water_quality', 'management']]"
   ]
  },
  {
   "cell_type": "code",
   "execution_count": 104,
   "id": "9d2ddc54",
   "metadata": {},
   "outputs": [
    {
     "data": {
      "text/html": [
       "<div>\n",
       "<style scoped>\n",
       "    .dataframe tbody tr th:only-of-type {\n",
       "        vertical-align: middle;\n",
       "    }\n",
       "\n",
       "    .dataframe tbody tr th {\n",
       "        vertical-align: top;\n",
       "    }\n",
       "\n",
       "    .dataframe thead th {\n",
       "        text-align: right;\n",
       "    }\n",
       "</style>\n",
       "<table border=\"1\" class=\"dataframe\">\n",
       "  <thead>\n",
       "    <tr style=\"text-align: right;\">\n",
       "      <th></th>\n",
       "      <th>duration</th>\n",
       "      <th>water_quality</th>\n",
       "      <th>management</th>\n",
       "      <th>duration_seconds</th>\n",
       "    </tr>\n",
       "  </thead>\n",
       "  <tbody>\n",
       "    <tr>\n",
       "      <th>0</th>\n",
       "      <td>15739 days 23:59:59.999997988</td>\n",
       "      <td>soft</td>\n",
       "      <td>parastatal</td>\n",
       "      <td>1.359936e+09</td>\n",
       "    </tr>\n",
       "    <tr>\n",
       "      <th>1</th>\n",
       "      <td>15739 days 23:59:59.999998</td>\n",
       "      <td>soft</td>\n",
       "      <td>vwc</td>\n",
       "      <td>1.359936e+09</td>\n",
       "    </tr>\n",
       "    <tr>\n",
       "      <th>2</th>\n",
       "      <td>15736 days 23:59:59.999997990</td>\n",
       "      <td>soft</td>\n",
       "      <td>vwc</td>\n",
       "      <td>1.359677e+09</td>\n",
       "    </tr>\n",
       "    <tr>\n",
       "      <th>3</th>\n",
       "      <td>15726 days 23:59:59.999998013</td>\n",
       "      <td>soft</td>\n",
       "      <td>vwc</td>\n",
       "      <td>1.358813e+09</td>\n",
       "    </tr>\n",
       "    <tr>\n",
       "      <th>4</th>\n",
       "      <td>15790 days 23:59:59.999998</td>\n",
       "      <td>soft</td>\n",
       "      <td>water board</td>\n",
       "      <td>1.364342e+09</td>\n",
       "    </tr>\n",
       "  </tbody>\n",
       "</table>\n",
       "</div>"
      ],
      "text/plain": [
       "                       duration water_quality   management  duration_seconds\n",
       "0 15739 days 23:59:59.999997988          soft   parastatal      1.359936e+09\n",
       "1    15739 days 23:59:59.999998          soft          vwc      1.359936e+09\n",
       "2 15736 days 23:59:59.999997990          soft          vwc      1.359677e+09\n",
       "3 15726 days 23:59:59.999998013          soft          vwc      1.358813e+09\n",
       "4    15790 days 23:59:59.999998          soft  water board      1.364342e+09"
      ]
     },
     "execution_count": 104,
     "metadata": {},
     "output_type": "execute_result"
    }
   ],
   "source": [
    "test_vars.head()"
   ]
  },
  {
   "cell_type": "code",
   "execution_count": 105,
   "id": "9f33f684",
   "metadata": {},
   "outputs": [],
   "source": [
    "test_vars = test_vars.drop('duration', axis=1)"
   ]
  },
  {
   "cell_type": "code",
   "execution_count": 127,
   "id": "74febef7",
   "metadata": {},
   "outputs": [],
   "source": [
    "encoded_test_features = encoder.transform(test_vars[categorical_columns])\n",
    "encoded_test_df = pd.DataFrame(encoded_test_features.toarray(), columns=encoder.categories_[0].tolist() + encoder.categories_[1].tolist())\n",
    "\n",
    "test_vars_encoded = pd.concat([test_vars.drop(categorical_columns, axis=1), encoded_test_df], axis=1)\n"
   ]
  },
  {
   "cell_type": "code",
   "execution_count": 129,
   "id": "cd215ef4",
   "metadata": {},
   "outputs": [],
   "source": [
    "predictions = clf.predict(test_vars_encoded)"
   ]
  },
  {
   "cell_type": "code",
   "execution_count": 133,
   "id": "2e8a67fe",
   "metadata": {},
   "outputs": [
    {
     "data": {
      "text/plain": [
       "array([0, 0, 0, ..., 2, 0, 0])"
      ]
     },
     "execution_count": 133,
     "metadata": {},
     "output_type": "execute_result"
    }
   ],
   "source": [
    "predictions"
   ]
  },
  {
   "cell_type": "code",
   "execution_count": 137,
   "id": "99dbe824",
   "metadata": {},
   "outputs": [],
   "source": [
    "predictions_submit = label_encoder.inverse_transform(predictions)"
   ]
  },
  {
   "cell_type": "code",
   "execution_count": 138,
   "id": "f00a4414",
   "metadata": {},
   "outputs": [
    {
     "data": {
      "text/plain": [
       "array(['functional', 'functional', 'functional', ..., 'non functional',\n",
       "       'functional', 'functional'], dtype=object)"
      ]
     },
     "execution_count": 138,
     "metadata": {},
     "output_type": "execute_result"
    }
   ],
   "source": [
    "predictions_submit"
   ]
  },
  {
   "cell_type": "code",
   "execution_count": 139,
   "id": "6f7a1609",
   "metadata": {},
   "outputs": [],
   "source": [
    "submission_df = pd.DataFrame(predictions_submit, columns=['status_group'])"
   ]
  },
  {
   "cell_type": "code",
   "execution_count": 140,
   "id": "9c2a77cd",
   "metadata": {},
   "outputs": [],
   "source": [
    "submission_df.to_csv('submission.csv', index=False)"
   ]
  }
 ],
 "metadata": {
  "kernelspec": {
   "display_name": "Python 3 (ipykernel)",
   "language": "python",
   "name": "python3"
  },
  "language_info": {
   "codemirror_mode": {
    "name": "ipython",
    "version": 3
   },
   "file_extension": ".py",
   "mimetype": "text/x-python",
   "name": "python",
   "nbconvert_exporter": "python",
   "pygments_lexer": "ipython3",
   "version": "3.10.9"
  }
 },
 "nbformat": 4,
 "nbformat_minor": 5
}
